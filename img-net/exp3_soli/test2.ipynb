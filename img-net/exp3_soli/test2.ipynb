{
 "cells": [
  {
   "cell_type": "code",
   "execution_count": 7,
   "metadata": {},
   "outputs": [
    {
     "ename": "SyntaxError",
     "evalue": "EOL while scanning string literal (3529345693.py, line 40)",
     "output_type": "error",
     "traceback": [
      "\u001b[0;36m  Cell \u001b[0;32mIn[7], line 40\u001b[0;36m\u001b[0m\n\u001b[0;31m    print(f\"Min: {np.min(channels)})\u001b[0m\n\u001b[0m                                    ^\u001b[0m\n\u001b[0;31mSyntaxError\u001b[0m\u001b[0;31m:\u001b[0m EOL while scanning string literal\n"
     ]
    }
   ],
   "source": [
    "import cv2\n",
    "import os\n",
    "import numpy as np\n",
    "\n",
    "heights = []\n",
    "widths = []\n",
    "channels = []\n",
    "\n",
    "# Loop through images in the folder\n",
    "folder_path = '../datasets/flickr8k/flickr8k_images/'\n",
    "for file in os.listdir(folder_path):\n",
    "    img = cv2.imread(os.path.join(folder_path, file))\n",
    "    if img is not None:\n",
    "        height, width, channel = img.shape\n",
    "        heights.append(height)\n",
    "        widths.append(width)\n",
    "        channels.append(channel)\n",
    "\n",
    "# Calculate statistics\n",
    "heights = np.array(heights)\n",
    "widths = np.array(widths)\n",
    "channels = np.array(channels)\n",
    "\n",
    "# Print mean, std dev, min, max\n",
    "print(\"Height\")\n",
    "print(f\"Mean: {np.mean(heights)}\")\n",
    "print(f\"Std Dev: {np.std(heights)}\")\n",
    "print(f\"Min: {np.min(heights)}\")\n",
    "print(f\"Max: {np.max(heights)}\")\n",
    "\n",
    "print(\"Width\")\n",
    "print(f\"Mean: {np.mean(widths)}\")\n",
    "print(f\"Std Dev: {np.std(widths)}\")\n",
    "print(f\"Min: {np.min(widths)}\")\n",
    "print(f\"Max: {np.max(widths)}\")\n",
    "\n",
    "print(\"Channels\")\n",
    "print(f\"Mean: {np.mean(channels)}\")\n",
    "print(f\"Std Dev: {np.std(channels)}\")\n",
    "print(f\"Min: {np.min(channels)}\")"
   ]
  },
  {
   "cell_type": "code",
   "execution_count": null,
   "metadata": {},
   "outputs": [],
   "source": []
  }
 ],
 "metadata": {
  "kernelspec": {
   "display_name": "Python 3",
   "language": "python",
   "name": "python3"
  },
  "language_info": {
   "codemirror_mode": {
    "name": "ipython",
    "version": 3
   },
   "file_extension": ".py",
   "mimetype": "text/x-python",
   "name": "python",
   "nbconvert_exporter": "python",
   "pygments_lexer": "ipython3",
   "version": "3.9.2"
  }
 },
 "nbformat": 4,
 "nbformat_minor": 2
}
